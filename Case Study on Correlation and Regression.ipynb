{
 "cells": [
  {
   "cell_type": "markdown",
   "id": "7c0105ed",
   "metadata": {},
   "source": [
    "# Case Study on Correlation and Regression"
   ]
  },
  {
   "cell_type": "markdown",
   "id": "6de6e257",
   "metadata": {},
   "source": [
    ">  A textile company regularly spent money on five advertising companies for their\n",
    "ads."
   ]
  },
  {
   "cell_type": "code",
   "execution_count": 76,
   "id": "8cd14175",
   "metadata": {},
   "outputs": [],
   "source": [
    "#importing libraries\n",
    "import pandas as pd\n",
    "import numpy as np\n",
    "import matplotlib.pyplot as plt\n",
    "import seaborn as sns"
   ]
  },
  {
   "cell_type": "code",
   "execution_count": 77,
   "id": "c115266e",
   "metadata": {},
   "outputs": [],
   "source": [
    "#importing data\n",
    "data=pd.read_csv(\"Add_sales_data_2018.csv\")"
   ]
  },
  {
   "cell_type": "code",
   "execution_count": 79,
   "id": "b41d75b9",
   "metadata": {
    "scrolled": true
   },
   "outputs": [
    {
     "data": {
      "text/html": [
       "<div>\n",
       "<style scoped>\n",
       "    .dataframe tbody tr th:only-of-type {\n",
       "        vertical-align: middle;\n",
       "    }\n",
       "\n",
       "    .dataframe tbody tr th {\n",
       "        vertical-align: top;\n",
       "    }\n",
       "\n",
       "    .dataframe thead th {\n",
       "        text-align: right;\n",
       "    }\n",
       "</style>\n",
       "<table border=\"1\" class=\"dataframe\">\n",
       "  <thead>\n",
       "    <tr style=\"text-align: right;\">\n",
       "      <th></th>\n",
       "      <th>Date</th>\n",
       "      <th>Add1(in Thousands)</th>\n",
       "      <th>Add2(in Thousands)</th>\n",
       "      <th>Add3(in Thousands)</th>\n",
       "      <th>Add4(in Thousands)</th>\n",
       "      <th>Add5(in Thousands)</th>\n",
       "      <th>Profit(in Thousands)</th>\n",
       "    </tr>\n",
       "  </thead>\n",
       "  <tbody>\n",
       "    <tr>\n",
       "      <th>0</th>\n",
       "      <td>2018-10-08</td>\n",
       "      <td>208.00</td>\n",
       "      <td>222.25</td>\n",
       "      <td>206.85</td>\n",
       "      <td>216.00</td>\n",
       "      <td>215.15</td>\n",
       "      <td>4093.065</td>\n",
       "    </tr>\n",
       "    <tr>\n",
       "      <th>1</th>\n",
       "      <td>2018-10-05</td>\n",
       "      <td>217.00</td>\n",
       "      <td>218.60</td>\n",
       "      <td>205.90</td>\n",
       "      <td>210.25</td>\n",
       "      <td>209.20</td>\n",
       "      <td>4042.448</td>\n",
       "    </tr>\n",
       "    <tr>\n",
       "      <th>2</th>\n",
       "      <td>2018-10-04</td>\n",
       "      <td>223.50</td>\n",
       "      <td>227.80</td>\n",
       "      <td>216.15</td>\n",
       "      <td>217.25</td>\n",
       "      <td>218.20</td>\n",
       "      <td>4213.819</td>\n",
       "    </tr>\n",
       "    <tr>\n",
       "      <th>3</th>\n",
       "      <td>2018-10-03</td>\n",
       "      <td>230.00</td>\n",
       "      <td>237.50</td>\n",
       "      <td>225.75</td>\n",
       "      <td>226.45</td>\n",
       "      <td>227.60</td>\n",
       "      <td>4391.665</td>\n",
       "    </tr>\n",
       "    <tr>\n",
       "      <th>4</th>\n",
       "      <td>2018-10-01</td>\n",
       "      <td>234.55</td>\n",
       "      <td>234.60</td>\n",
       "      <td>221.05</td>\n",
       "      <td>230.30</td>\n",
       "      <td>230.90</td>\n",
       "      <td>4350.683</td>\n",
       "    </tr>\n",
       "  </tbody>\n",
       "</table>\n",
       "</div>"
      ],
      "text/plain": [
       "         Date  Add1(in Thousands)  Add2(in Thousands)  Add3(in Thousands)  \\\n",
       "0  2018-10-08              208.00              222.25              206.85   \n",
       "1  2018-10-05              217.00              218.60              205.90   \n",
       "2  2018-10-04              223.50              227.80              216.15   \n",
       "3  2018-10-03              230.00              237.50              225.75   \n",
       "4  2018-10-01              234.55              234.60              221.05   \n",
       "\n",
       "   Add4(in Thousands)  Add5(in Thousands)  Profit(in Thousands)  \n",
       "0              216.00              215.15              4093.065  \n",
       "1              210.25              209.20              4042.448  \n",
       "2              217.25              218.20              4213.819  \n",
       "3              226.45              227.60              4391.665  \n",
       "4              230.30              230.90              4350.683  "
      ]
     },
     "execution_count": 79,
     "metadata": {},
     "output_type": "execute_result"
    }
   ],
   "source": [
    "#viewing data sample\n",
    "data.head()"
   ]
  },
  {
   "cell_type": "code",
   "execution_count": 80,
   "id": "3561198e",
   "metadata": {},
   "outputs": [
    {
     "data": {
      "text/plain": [
       "(205, 7)"
      ]
     },
     "execution_count": 80,
     "metadata": {},
     "output_type": "execute_result"
    }
   ],
   "source": [
    "#shape of the data\n",
    "data.shape"
   ]
  },
  {
   "cell_type": "code",
   "execution_count": 97,
   "id": "cccfa50a",
   "metadata": {
    "scrolled": true
   },
   "outputs": [
    {
     "data": {
      "text/plain": [
       "Date                    0\n",
       "Add1(in Thousands)      0\n",
       "Add2(in Thousands)      0\n",
       "Add3(in Thousands)      0\n",
       "Add4(in Thousands)      0\n",
       "Add5(in Thousands)      0\n",
       "Profit(in Thousands)    0\n",
       "dtype: int64"
      ]
     },
     "execution_count": 97,
     "metadata": {},
     "output_type": "execute_result"
    }
   ],
   "source": [
    "#checking for null values\n",
    "data.isna().sum()"
   ]
  },
  {
   "cell_type": "code",
   "execution_count": 96,
   "id": "ba1fd8a5",
   "metadata": {},
   "outputs": [
    {
     "name": "stdout",
     "output_type": "stream",
     "text": [
      "<class 'pandas.core.frame.DataFrame'>\n",
      "RangeIndex: 205 entries, 0 to 204\n",
      "Data columns (total 7 columns):\n",
      " #   Column                Non-Null Count  Dtype  \n",
      "---  ------                --------------  -----  \n",
      " 0   Date                  205 non-null    object \n",
      " 1   Add1(in Thousands)    205 non-null    float64\n",
      " 2   Add2(in Thousands)    205 non-null    float64\n",
      " 3   Add3(in Thousands)    205 non-null    float64\n",
      " 4   Add4(in Thousands)    205 non-null    float64\n",
      " 5   Add5(in Thousands)    205 non-null    float64\n",
      " 6   Profit(in Thousands)  205 non-null    float64\n",
      "dtypes: float64(6), object(1)\n",
      "memory usage: 11.3+ KB\n"
     ]
    }
   ],
   "source": [
    "#data information\n",
    "data.info()"
   ]
  },
  {
   "cell_type": "markdown",
   "id": "64eb3f4e",
   "metadata": {},
   "source": [
    ">1. First of all, check whether there is any relationship between the amount\n",
    "spent for advertising through five different companies and profit\n",
    "generated.\n"
   ]
  },
  {
   "cell_type": "code",
   "execution_count": 83,
   "id": "1715a09c",
   "metadata": {
    "scrolled": false
   },
   "outputs": [
    {
     "data": {
      "text/plain": [
       "<AxesSubplot:>"
      ]
     },
     "execution_count": 83,
     "metadata": {},
     "output_type": "execute_result"
    },
    {
     "data": {
      "image/png": "[encoded data removed]",
      "text/plain": [
       "<Figure size 1080x576 with 2 Axes>"
      ]
     },
     "metadata": {
      "needs_background": "light"
     },
     "output_type": "display_data"
    }
   ],
   "source": [
    "#plotting a heatmap to view correlation between independent values\n",
    "corr=data.corr()\n",
    "plt.subplots(figsize=(15,8))\n",
    "sns.heatmap(corr,annot=True,cmap=\"YlGnBu\")"
   ]
  },
  {
   "cell_type": "markdown",
   "id": "9b2af6aa",
   "metadata": {},
   "source": [
    "Insight"
   ]
  },
  {
   "cell_type": "markdown",
   "id": "7055fcd3",
   "metadata": {},
   "source": [
    ">  Advertisements are highly corelated to profit\n",
    "\n",
    ">  Each of the advertisements are highly productive and Add2 is slightly better than all of them."
   ]
  },
  {
   "cell_type": "markdown",
   "id": "e04ce135",
   "metadata": {},
   "source": [
    ">2. Build a regression model to predict the profit from the given data and\n",
    "comment your findings on it"
   ]
  },
  {
   "cell_type": "code",
   "execution_count": 101,
   "id": "c7c42259",
   "metadata": {},
   "outputs": [
    {
     "data": {
      "text/plain": [
       "Index(['Date', 'Add1(in Thousands)', 'Add2(in Thousands)',\n",
       "       'Add3(in Thousands)', 'Add4(in Thousands)', 'Add5(in Thousands)',\n",
       "       'Profit(in Thousands)'],\n",
       "      dtype='object')"
      ]
     },
     "execution_count": 101,
     "metadata": {},
     "output_type": "execute_result"
    }
   ],
   "source": [
    "#viewing data columns\n",
    "data.columns"
   ]
  },
  {
   "cell_type": "code",
   "execution_count": 85,
   "id": "8b8ed2c3",
   "metadata": {},
   "outputs": [],
   "source": [
    "#splitting data for training and testing\n",
    "y=data[\"Profit(in Thousands)\"]\n",
    "x=data.drop([\"Profit(in Thousands)\",\"Date\"],axis=1)"
   ]
  },
  {
   "cell_type": "code",
   "execution_count": 60,
   "id": "23b6ed1b",
   "metadata": {},
   "outputs": [],
   "source": [
    "#importing the function for training and testing\n",
    "from sklearn.model_selection import train_test_split\n",
    "x_train,x_test,y_train,y_test=train_test_split(x,y,random_state=42,test_size=0.25)"
   ]
  },
  {
   "cell_type": "code",
   "execution_count": 61,
   "id": "f61f326a",
   "metadata": {},
   "outputs": [],
   "source": [
    "from sklearn import linear_model"
   ]
  },
  {
   "cell_type": "code",
   "execution_count": 62,
   "id": "1f188f64",
   "metadata": {},
   "outputs": [],
   "source": [
    "lr=linear_model.LinearRegression()"
   ]
  },
  {
   "cell_type": "code",
   "execution_count": 94,
   "id": "4ea495da",
   "metadata": {},
   "outputs": [],
   "source": [
    "#fitting model\n",
    "model=lr.fit(x_train,y_train)"
   ]
  },
  {
   "cell_type": "code",
   "execution_count": 93,
   "id": "ec3f4c5e",
   "metadata": {},
   "outputs": [],
   "source": [
    "#predicting the profit\n",
    "pred=model.predict(x_test)"
   ]
  },
  {
   "cell_type": "code",
   "execution_count": 91,
   "id": "3d5e6fc8",
   "metadata": {},
   "outputs": [
    {
     "data": {
      "text/plain": [
       "array([4152.066, 4446.441, 5131.898, 4907.56 , 5004.282, 4623.793,\n",
       "       5384.175, 5328.025, 5175.051, 5956.323, 5780.799, 4997.719,\n",
       "       5075.858, 5784.54 , 4936.12 , 5065.652, 4190.965, 5034.726,\n",
       "       5015.536, 5134.657, 5145.131, 5421.94 , 4569.293, 4598.292,\n",
       "       4436.321, 4175.677, 5616.791, 5667.25 , 4648.834, 5717.838,\n",
       "       5001.615, 5182.368, 5017.503, 5545.013, 5013.207, 5030.451,\n",
       "       5108.626, 4760.877, 4606.34 , 4925.861, 5250.788, 5038.222,\n",
       "       5491.792, 5019.997, 4647.356, 4486.38 , 4435.174, 5300.437,\n",
       "       5425.19 , 4482.183, 4193.095, 6062.457])"
      ]
     },
     "execution_count": 91,
     "metadata": {},
     "output_type": "execute_result"
    }
   ],
   "source": [
    "#predicted profit\n",
    "pred"
   ]
  },
  {
   "cell_type": "code",
   "execution_count": 90,
   "id": "491d97b9",
   "metadata": {
    "scrolled": false
   },
   "outputs": [
    {
     "data": {
      "text/plain": [
       "15     4152.066\n",
       "9      4446.441\n",
       "100    5131.898\n",
       "132    4907.560\n",
       "68     5004.282\n",
       "95     4623.793\n",
       "159    5384.175\n",
       "162    5328.025\n",
       "147    5175.051\n",
       "182    5956.323\n",
       "191    5780.799\n",
       "164    4997.719\n",
       "65     5075.858\n",
       "175    5784.540\n",
       "73     4936.120\n",
       "152    5065.652\n",
       "18     4190.965\n",
       "82     5034.726\n",
       "86     5015.536\n",
       "143    5134.657\n",
       "60     5145.131\n",
       "101    5421.940\n",
       "98     4569.293\n",
       "30     4598.292\n",
       "25     4436.321\n",
       "16     4175.677\n",
       "168    5616.791\n",
       "195    5667.250\n",
       "97     4648.834\n",
       "194    5717.838\n",
       "67     5001.615\n",
       "120    5182.368\n",
       "154    5017.503\n",
       "202    5545.013\n",
       "79     5013.207\n",
       "69     5030.451\n",
       "145    5108.626\n",
       "55     4760.877\n",
       "45     4606.340\n",
       "84     4925.861\n",
       "146    5250.788\n",
       "66     5038.222\n",
       "111    5491.792\n",
       "153    5019.997\n",
       "96     4647.356\n",
       "38     4486.380\n",
       "24     4435.174\n",
       "139    5300.437\n",
       "112    5425.190\n",
       "29     4482.183\n",
       "19     4193.095\n",
       "178    6062.457\n",
       "Name: Profit(in Thousands), dtype: float64"
      ]
     },
     "execution_count": 90,
     "metadata": {},
     "output_type": "execute_result"
    }
   ],
   "source": [
    "#actual or observed profit\n",
    "y_test"
   ]
  },
  {
   "cell_type": "code",
   "execution_count": 87,
   "id": "36a74e83",
   "metadata": {
    "scrolled": true
   },
   "outputs": [
    {
     "data": {
      "text/plain": [
       "9.094947017729282e-13"
      ]
     },
     "execution_count": 87,
     "metadata": {},
     "output_type": "execute_result"
    }
   ],
   "source": [
    "model.intercept_"
   ]
  },
  {
   "cell_type": "code",
   "execution_count": 88,
   "id": "f3e6752b",
   "metadata": {},
   "outputs": [
    {
     "data": {
      "text/plain": [
       "array([ 1.  , 12.38,  3.5 ,  1.  ,  0.9 ])"
      ]
     },
     "execution_count": 88,
     "metadata": {},
     "output_type": "execute_result"
    }
   ],
   "source": [
    "model.coef_"
   ]
  },
  {
   "cell_type": "code",
   "execution_count": 92,
   "id": "8254a69e",
   "metadata": {},
   "outputs": [],
   "source": [
    "#finding MSE\n",
    "from sklearn.metrics import mean_squared_error"
   ]
  },
  {
   "cell_type": "code",
   "execution_count": 68,
   "id": "7062f0de",
   "metadata": {},
   "outputs": [
    {
     "name": "stdout",
     "output_type": "stream",
     "text": [
      "MSE is 6.362927788869444e-25\n"
     ]
    }
   ],
   "source": [
    "print(\"MSE is\",mean_squared_error(y_test,pred))"
   ]
  },
  {
   "cell_type": "markdown",
   "id": "b9ffebd7",
   "metadata": {},
   "source": [
    "Insight"
   ]
  },
  {
   "cell_type": "markdown",
   "id": "4ed8d13a",
   "metadata": {},
   "source": [
    ">  Our model is very effective in predicting the profits\n",
    "\n",
    ">  Our model is a best fit as we have a very low MSE value\n",
    "\n",
    "\n",
    "\n",
    "\n",
    "\n"
   ]
  },
  {
   "cell_type": "markdown",
   "id": "35ab02e5",
   "metadata": {},
   "source": [
    ">3. Predict the profit generated by the company, if they wish to spend the\n",
    "following amount for advertisement.\n",
    "\n",
    "Add1(in Thousands):   290\n",
    "\n",
    "Add2(in Thousands):   312\n",
    "\n",
    "Add3(in Thousands):   309\n",
    "\n",
    "Add4(in Thousands):   298\n",
    "\n",
    "Add5(in Thousands):   320"
   ]
  },
  {
   "cell_type": "code",
   "execution_count": 75,
   "id": "b785c67f",
   "metadata": {},
   "outputs": [
    {
     "data": {
      "text/plain": [
       "5820.060000000001"
      ]
     },
     "execution_count": 75,
     "metadata": {},
     "output_type": "execute_result"
    }
   ],
   "source": [
    "make_pred=[[290,312,309,298,320]]\n",
    "model.predict(make_pred).item()"
   ]
  },
  {
   "cell_type": "markdown",
   "id": "c4b868c3",
   "metadata": {},
   "source": [
    "Insight"
   ]
  },
  {
   "cell_type": "markdown",
   "id": "4f7fe84c",
   "metadata": {},
   "source": [
    ">  The Company will generate a profit of 5820k if they spend the following amounts on advertisements\n",
    "\n",
    ">  Add1(in Thousands): 290\n",
    "\n",
    ">  Add2(in Thousands): 312\n",
    "\n",
    ">  Add3(in Thousands): 309\n",
    "\n",
    ">  Add4(in Thousands): 298\n",
    "\n",
    ">  Add5(in Thousands): 320"
   ]
  },
  {
   "cell_type": "code",
   "execution_count": null,
   "id": "9f83fd9a",
   "metadata": {},
   "outputs": [],
   "source": []
  }
 ],
 "metadata": {
  "kernelspec": {
   "display_name": "Python 3",
   "language": "python",
   "name": "python3"
  },
  "language_info": {
   "codemirror_mode": {
    "name": "ipython",
    "version": 3
   },
   "file_extension": ".py",
   "mimetype": "text/x-python",
   "name": "python",
   "nbconvert_exporter": "python",
   "pygments_lexer": "ipython3",
   "version": "3.8.8"
  }
 },
 "nbformat": 4,
 "nbformat_minor": 5
}
